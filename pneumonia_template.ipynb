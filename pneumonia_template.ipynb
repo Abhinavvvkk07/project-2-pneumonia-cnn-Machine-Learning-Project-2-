{
 "cells": [
  {
   "cell_type": "markdown",
   "metadata": {
    "id": "foT8pth--QfY"
   },
   "source": [
    "### 🔍 Objective:\n",
    "This project will **introduce you to CNNs**.\n",
    "\n",
    "### 📌 What You’ll Do:\n",
    "1. Define suitable transforms/augmentations for your `train` and `test` images.\n",
    "2. Pass these images into PyTorch `DataLoaders` for batch processing.\n",
    "3. Implement `CNN` class architecture for pneumonia image classification.\n",
    "4. Train and validate your model.\n",
    "\n",
    "💡 **PLEASE PLEASE PLEASE look things up!!! This is YOUR learning experience.**\n",
    "\n",
    "---"
   ]
  },
  {
   "cell_type": "code",
   "execution_count": 3,
   "metadata": {
    "colab": {
     "base_uri": "https://localhost:8080/"
    },
    "execution": {
     "iopub.execute_input": "2025-01-30T23:24:55.964653Z",
     "iopub.status.busy": "2025-01-30T23:24:55.964380Z",
     "iopub.status.idle": "2025-01-30T23:24:59.878536Z",
     "shell.execute_reply": "2025-01-30T23:24:59.877445Z",
     "shell.execute_reply.started": "2025-01-30T23:24:55.964628Z"
    },
    "id": "trKjIVza-Qfa",
    "outputId": "c790d573-7a32-4d56-8ee9-b56dfce73094",
    "trusted": true
   },
   "outputs": [
    {
     "name": "stderr",
     "output_type": "stream",
     "text": [
      "/Library/Frameworks/Python.framework/Versions/3.12/lib/python3.12/site-packages/tqdm/auto.py:21: TqdmWarning: IProgress not found. Please update jupyter and ipywidgets. See https://ipywidgets.readthedocs.io/en/stable/user_install.html\n",
      "  from .autonotebook import tqdm as notebook_tqdm\n"
     ]
    },
    {
     "name": "stdout",
     "output_type": "stream",
     "text": [
      "Downloading from https://www.kaggle.com/api/v1/datasets/download/paultimothymooney/chest-xray-pneumonia?dataset_version_number=2...\n"
     ]
    },
    {
     "name": "stderr",
     "output_type": "stream",
     "text": [
      "100%|██████████| 2.29G/2.29G [00:48<00:00, 50.6MB/s]"
     ]
    },
    {
     "name": "stdout",
     "output_type": "stream",
     "text": [
      "Extracting files...\n"
     ]
    },
    {
     "name": "stderr",
     "output_type": "stream",
     "text": [
      "\n"
     ]
    }
   ],
   "source": [
    "import torch\n",
    "import kagglehub\n",
    "import torch.nn as nn\n",
    "\n",
    "path = kagglehub.dataset_download(\"paultimothymooney/chest-xray-pneumonia\")\n",
    "\n",
    "train_path = f'{path}/chest_xray/train/'\n",
    "test_path = f'{path}/chest_xray/test/'"
   ]
  },
  {
   "cell_type": "markdown",
   "metadata": {
    "id": "sCcUi9kd-Qfc"
   },
   "source": [
    "#### 📌 ***TASK 1 - DATA PREPROCESSING***\n",
    "\n",
    "Define image augmentations in the cell below using two variables:  \n",
    "\n",
    "- **`transform_train`**: Stores transforms for training images. You can include any augmentations you prefer.  \n",
    "- **`transform_test`**: Stores transforms for your test images. As a best practice, limit these transformations to only the essential ones from `transform_train`.\n",
    "\n",
    "Lastly, be sure to convert all images to [tensors](https://www.perplexity.ai/search/i-m-a-student-at-naiss-mlb-and-_EL_nBO9TS694cbTEl5M.A) via the `transforms.ToTensor()` transform. Don't know transforms? [Click here](https://pytorch.org/vision/stable/transforms.html)."
   ]
  },
  {
   "cell_type": "code",
   "execution_count": 7,
   "metadata": {
    "id": "jQXXGPKj-Qfc",
    "trusted": true
   },
   "outputs": [
    {
     "name": "stdout",
     "output_type": "stream",
     "text": [
      "Image batch shape: torch.Size([32, 3, 128, 128])\n",
      "Label batch shape: torch.Size([32])\n"
     ]
    }
   ],
   "source": [
    "from torchvision import transforms\n",
    "from torchvision.datasets import ImageFolder\n",
    "from torch.utils.data import DataLoader\n",
    "\n",
    "# 🔧 Image transforms\n",
    "transform_train = transforms.Compose([\n",
    "    transforms.Resize((128, 128)),\n",
    "    transforms.RandomHorizontalFlip(),\n",
    "    transforms.RandomRotation(10),\n",
    "    transforms.ToTensor()\n",
    "])\n",
    "\n",
    "transform_test = transforms.Compose([\n",
    "    transforms.Resize((128, 128)),\n",
    "    transforms.ToTensor()\n",
    "])\n",
    "\n",
    "# 🔁 Load the dataset\n",
    "num_batches = 32\n",
    "\n",
    "train_dataset = ImageFolder(root=train_path, transform=transform_train)\n",
    "train_loader = DataLoader(dataset=train_dataset, batch_size=num_batches, shuffle=True)\n",
    "\n",
    "test_dataset = ImageFolder(root=test_path, transform=transform_test)\n",
    "test_loader = DataLoader(dataset=test_dataset, batch_size=num_batches, shuffle=True)\n",
    "images, labels = next(iter(train_loader))\n",
    "print(f\"Image batch shape: {images.shape}\")\n",
    "print(f\"Label batch shape: {labels.shape}\")\n"
   ]
  },
  {
   "cell_type": "markdown",
   "metadata": {
    "id": "JvBZSzQb-Qfc"
   },
   "source": [
    "Now, we'll pass our images and transforms into a `DataLoader`, which allows us to train our model in batches.\n",
    "Most of the code is done for you, but [click here](https://www.perplexity.ai/search/i-m-a-student-at-naiss-mlb-and-_EL_nBO9TS694cbTEl5M.A) to learn more."
   ]
  },
  {
   "cell_type": "code",
   "execution_count": 9,
   "metadata": {
    "id": "xZYhbcgA-Qfc",
    "trusted": true
   },
   "outputs": [],
   "source": [
    "from torchvision.datasets import ImageFolder\n",
    "from torch.utils.data import DataLoader\n",
    "\n",
    "num_batches = 32\n",
    "\n",
    "train_dataset = ImageFolder(root=train_path, transform=transform_train)\n",
    "train_loader = DataLoader(dataset=train_dataset, batch_size=num_batches, shuffle=True)\n",
    "\n",
    "test_dataset = ImageFolder(root=test_path, transform=transform_test)\n",
    "test_loader = DataLoader(dataset=test_dataset, batch_size=num_batches, shuffle=True)"
   ]
  },
  {
   "cell_type": "markdown",
   "metadata": {
    "id": "YJp8AV-E-Qfd"
   },
   "source": [
    "#### 📌 ***TASK 2 - CNN Architecture***\n",
    "\n",
    "This is where you have all the creative freedom in the world. Here are some good questions to ask yourself:\n",
    "\n",
    "- How many [channels](https://www.perplexity.ai/search/i-m-a-student-at-naiss-mlb-wha-49AG77e4Qp2e7EkARdFsTA) should go into the input layer?\n",
    "- What measures can I take to avoid [overfitting](https://www.perplexity.ai/search/i-m-a-student-at-naiss-mlb-wha-YdAbhqQzRZaEq39BEQzA6w)?\n",
    "- What matters to me? (Training Speed / Performance tradeoffs)\n",
    "- **CONVOLUTION. ACTIVATION FUNCTION. POOLING!!!** 📢📢📢\n",
    "\n",
    "Not comfortable with PyTorch? [Here](https://youtu.be/mozBidd58VQ?si=TE2_81TEQko1eDXT). Go and make me the best [CNN](https://www.datacamp.com/tutorial/introduction-to-convolutional-neural-networks-cnns) I've ever seen :)"
   ]
  },
  {
   "cell_type": "code",
   "execution_count": 10,
   "metadata": {
    "id": "j3zGSpyz-Qfd",
    "trusted": true
   },
   "outputs": [],
   "source": [
    "import torch\n",
    "import torch.nn\n",
    "image_width = 128\n",
    "image_height = 128\n",
    "\n",
    "class PneumoniaCNN(nn.Module):\n",
    "    def __init__(self):\n",
    "        super(PneumoniaCNN, self).__init__()\n",
    "        self.conv1 = nn.Conv2d(3, 16, kernel_size=3, padding=1)\n",
    "        self.conv2 = nn.Conv2d(16, 32, kernel_size=3, padding=1)\n",
    "        self.conv3 = nn.Conv2d(32, 64, kernel_size=3, padding=1)\n",
    "        \n",
    "        self.pool = nn.MaxPool2d(2, 2)\n",
    "        self.dropout = nn.Dropout(0.25)\n",
    "\n",
    "        # After 3 poolings on 128x128 → 16x16\n",
    "        self.fc1 = nn.Linear(64 * 16 * 16, 512)\n",
    "        self.fc2 = nn.Linear(512, 2)\n",
    "\n",
    "    def forward(self, x):\n",
    "        x = self.pool(torch.relu(self.conv1(x)))  # -> 64x64\n",
    "        x = self.pool(torch.relu(self.conv2(x)))  # -> 32x32\n",
    "        x = self.pool(torch.relu(self.conv3(x)))  # -> 16x16\n",
    "        x = x.view(-1, 64 * 16 * 16)\n",
    "        x = self.dropout(x)\n",
    "        x = torch.relu(self.fc1(x))\n",
    "        x = self.fc2(x)\n",
    "        return x"
   ]
  },
  {
   "cell_type": "markdown",
   "metadata": {
    "id": "LnG4r6aw-Qfe"
   },
   "source": [
    "#### 📌 ***TASK 3 - DEFINE TRAIN FUNCTION***  \n",
    "\n",
    "Define `process_forward_phase` and `train` to update model weights with each new [epoch/iteration](https://www.perplexity.ai/search/i-m-a-curious-naiss-mlb-studen-7SJECNYrS1iYxUR032dp7A). Here are the steps:\n",
    "\n",
    "- **Forward pass:** Here, our batch is taken through the network to output a prediction (Normal/Pneumonia)\n",
    "- **Backward pass:** The model goes \"What's our loss? Hmmm... Not quite what I want. This means my `weights` aren't adjusted properly. Let me propagate my `loss` backward in hopes of correcting my weights.\"\n",
    "\n",
    "We use **`f1_score`** as the primary metric and also display **`accuracy`** for comparison. Most steps are outlined for you—just follow the structure provided!"
   ]
  },
  {
   "cell_type": "code",
   "execution_count": 11,
   "metadata": {
    "execution": {
     "iopub.execute_input": "2025-02-07T14:38:35.588043Z",
     "iopub.status.busy": "2025-02-07T14:38:35.587676Z",
     "iopub.status.idle": "2025-02-07T14:38:36.250754Z",
     "shell.execute_reply": "2025-02-07T14:38:36.249692Z",
     "shell.execute_reply.started": "2025-02-07T14:38:35.588017Z"
    },
    "id": "Pz9OGUy8-Qfe",
    "trusted": true
   },
   "outputs": [],
   "source": [
    "from tqdm import tqdm # Visualize training progress\n",
    "from sklearn.metrics import f1_score, accuracy_score\n",
    "def process_forward_pass(model, batch, criterion):\n",
    "    images, labels = batch\n",
    "    labels = labels.float()\n",
    "\n",
    "    outputs = model(images)\n",
    "    loss = criterion(outputs, labels.long())\n",
    "    preds = torch.argmax(outputs, dim=1)\n",
    "\n",
    "    return loss, preds, labels\n",
    "\n",
    "def train(model, train_loader, criterion, optimizer, epochs):\n",
    "    model.train()\n",
    "    for epoch in range(epochs):\n",
    "        all_preds, all_labels = [], []\n",
    "\n",
    "        for batch in tqdm(train_loader, desc=f\"Epoch {epoch + 1}/{epochs}\"):\n",
    "            optimizer.zero_grad()\n",
    "\n",
    "            loss, preds, labels = process_forward_pass(model, batch, criterion)\n",
    "            loss.backward()\n",
    "            optimizer.step()\n",
    "\n",
    "            all_preds.extend(preds.numpy())\n",
    "            all_labels.extend(labels.numpy())\n",
    "\n",
    "        accuracy = accuracy_score(all_labels, all_preds)\n",
    "        f1 = f1_score(all_labels, all_preds)\n",
    "        print(f\"Acc={accuracy:.2f}%, F1={f1:.4f}\")\n",
    "\n"
   ]
  },
  {
   "cell_type": "markdown",
   "metadata": {
    "id": "Yx9DofPM-Qfe"
   },
   "source": [
    "After your model trains, you want to see how well it performs on **unseen data.** Meaning, if this were a live hospital NEEDING your predictions to classify patients with pneumonia, how well would it do?\n",
    "\n",
    "\n",
    "You simply have to run this cell; all the code is implemented for you (Assuming `process_forward_phase` works fine). 😊"
   ]
  },
  {
   "cell_type": "code",
   "execution_count": null,
   "metadata": {
    "execution": {
     "iopub.execute_input": "2025-02-07T13:46:23.455211Z",
     "iopub.status.busy": "2025-02-07T13:46:23.454693Z",
     "iopub.status.idle": "2025-02-07T13:46:23.464758Z",
     "shell.execute_reply": "2025-02-07T13:46:23.463432Z",
     "shell.execute_reply.started": "2025-02-07T13:46:23.455043Z"
    },
    "id": "luq7_sq--Qff",
    "trusted": true
   },
   "outputs": [],
   "source": [
    "def test(model, test_loader, criterion):\n",
    "    model.eval()\n",
    "    all_preds, all_labels = [], []\n",
    "\n",
    "    with torch.no_grad():\n",
    "        for batch in test_loader:\n",
    "            loss, preds, labels = process_forward_phase(model, batch, criterion)\n",
    "            all_preds.extend(preds.numpy())\n",
    "            all_labels.extend(labels.numpy())\n",
    "\n",
    "    accuracy = accuracy_score(all_labels, all_preds)\n",
    "    f1 = f1_score(all_labels, all_preds)\n",
    "\n",
    "    print(f\"Final Test Results: Acc={accuracy:.2f}%, F1={f1:.4f}\")"
   ]
  },
  {
   "cell_type": "markdown",
   "metadata": {
    "id": "Ykt3cX06-Qff"
   },
   "source": [
    "#### 📌***TASK 4 - TRAIN MODEL***\n",
    "\n",
    "We're close!!! We simply need to instantiate the `model`, define a suitable `criterion` (loss), and use an `optimizer` (thing to speed up backpropagation)."
   ]
  },
  {
   "cell_type": "code",
   "execution_count": 12,
   "metadata": {
    "id": "0P1bdWXr-Qff",
    "trusted": true
   },
   "outputs": [
    {
     "name": "stderr",
     "output_type": "stream",
     "text": [
      "Epoch 1/5: 100%|██████████| 163/163 [02:24<00:00,  1.12it/s]\n"
     ]
    },
    {
     "name": "stdout",
     "output_type": "stream",
     "text": [
      "Acc=0.86%, F1=0.9132\n"
     ]
    },
    {
     "name": "stderr",
     "output_type": "stream",
     "text": [
      "Epoch 2/5: 100%|██████████| 163/163 [02:24<00:00,  1.12it/s]\n"
     ]
    },
    {
     "name": "stdout",
     "output_type": "stream",
     "text": [
      "Acc=0.94%, F1=0.9622\n"
     ]
    },
    {
     "name": "stderr",
     "output_type": "stream",
     "text": [
      "Epoch 3/5: 100%|██████████| 163/163 [02:26<00:00,  1.11it/s]\n"
     ]
    },
    {
     "name": "stdout",
     "output_type": "stream",
     "text": [
      "Acc=0.95%, F1=0.9676\n"
     ]
    },
    {
     "name": "stderr",
     "output_type": "stream",
     "text": [
      "Epoch 4/5: 100%|██████████| 163/163 [02:32<00:00,  1.07it/s]\n"
     ]
    },
    {
     "name": "stdout",
     "output_type": "stream",
     "text": [
      "Acc=0.96%, F1=0.9714\n"
     ]
    },
    {
     "name": "stderr",
     "output_type": "stream",
     "text": [
      "Epoch 5/5: 100%|██████████| 163/163 [02:36<00:00,  1.04it/s]"
     ]
    },
    {
     "name": "stdout",
     "output_type": "stream",
     "text": [
      "Acc=0.96%, F1=0.9702\n"
     ]
    },
    {
     "name": "stderr",
     "output_type": "stream",
     "text": [
      "\n"
     ]
    }
   ],
   "source": [
    "import torch.optim as optim\n",
    "\n",
    "model = PneumoniaCNN()\n",
    "\n",
    "criterion = nn.CrossEntropyLoss()\n",
    "\n",
    "\n",
    "optimizer = optim.Adam(model.parameters(), lr=0.001, weight_decay=1e-5)\n",
    "\n",
    "\n",
    "train(model, train_loader, criterion, optimizer, epochs=5)"
   ]
  },
  {
   "cell_type": "code",
   "execution_count": 14,
   "metadata": {},
   "outputs": [],
   "source": [
    "def test(model, test_loader, criterion):\n",
    "    model.eval()\n",
    "    all_preds, all_labels = [], []\n",
    "\n",
    "    with torch.no_grad():\n",
    "        for batch in test_loader:\n",
    "            loss, preds, labels = process_forward_pass(model, batch, criterion)\n",
    "            all_preds.extend(preds.numpy())\n",
    "            all_labels.extend(labels.numpy())\n",
    "\n",
    "    accuracy = accuracy_score(all_labels, all_preds)\n",
    "    f1 = f1_score(all_labels, all_preds)\n",
    "\n",
    "    print(f\"Final Test Results: Acc={accuracy:.2f}%, F1={f1:.4f}\")"
   ]
  },
  {
   "cell_type": "markdown",
   "metadata": {
    "id": "XInpf_2o-Qff"
   },
   "source": [
    "Last step: evaluate your model's performance. Remember, you get **1,000,000** brownie points 🍫 if you beat Adam's **`f1_score:`0.8549**."
   ]
  },
  {
   "cell_type": "code",
   "execution_count": 15,
   "metadata": {
    "id": "sAeAIFf6-Qfg",
    "trusted": true
   },
   "outputs": [
    {
     "name": "stdout",
     "output_type": "stream",
     "text": [
      "Final Test Results: Acc=0.71%, F1=0.8117\n"
     ]
    }
   ],
   "source": [
    "test(model, test_loader, criterion)"
   ]
  }
 ],
 "metadata": {
  "colab": {
   "provenance": []
  },
  "kaggle": {
   "accelerator": "none",
   "dataSources": [],
   "dockerImageVersionId": 30839,
   "isGpuEnabled": false,
   "isInternetEnabled": true,
   "language": "python",
   "sourceType": "notebook"
  },
  "kernelspec": {
   "display_name": "Python 3",
   "language": "python",
   "name": "python3"
  },
  "language_info": {
   "codemirror_mode": {
    "name": "ipython",
    "version": 3
   },
   "file_extension": ".py",
   "mimetype": "text/x-python",
   "name": "python",
   "nbconvert_exporter": "python",
   "pygments_lexer": "ipython3",
   "version": "3.12.6"
  }
 },
 "nbformat": 4,
 "nbformat_minor": 0
}
